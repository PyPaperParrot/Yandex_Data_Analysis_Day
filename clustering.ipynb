{
 "cells": [
  {
   "cell_type": "code",
   "execution_count": 1,
   "metadata": {
    "ExecuteTime": {
     "end_time": "2019-04-06T23:01:45.018940Z",
     "start_time": "2019-04-06T23:01:43.920887Z"
    },
    "scrolled": true
   },
   "outputs": [
    {
     "name": "stderr",
     "output_type": "stream",
     "text": [
      "Using TensorFlow backend.\n"
     ]
    }
   ],
   "source": [
    "from keras.preprocessing import image\n",
    "import matplotlib.pyplot as plt\n",
    "\n",
    "import numpy as np\n",
    "import pandas as pd"
   ]
  },
  {
   "cell_type": "code",
   "execution_count": 2,
   "metadata": {
    "ExecuteTime": {
     "end_time": "2019-04-06T23:01:45.024710Z",
     "start_time": "2019-04-06T23:01:45.020409Z"
    },
    "scrolled": true
   },
   "outputs": [],
   "source": [
    "def image_to_arr(data, img):\n",
    "\n",
    "    #Преобразуем изображение в массив numpy\n",
    "    x = image.img_to_array(img)\n",
    "    x = x.reshape(1, 1, 28812)\n",
    "    x = x[0][0].tolist()\n",
    "    \n",
    "    for i in range(0, len(x), 3):\n",
    "        data.append(x[i])"
   ]
  },
  {
   "cell_type": "code",
   "execution_count": 3,
   "metadata": {
    "ExecuteTime": {
     "end_time": "2019-04-06T23:01:45.296112Z",
     "start_time": "2019-04-06T23:01:45.290129Z"
    },
    "scrolled": true
   },
   "outputs": [],
   "source": [
    "def prepare_data(x):\n",
    "    #удалим все значения белого цвета до первого НЕбелого\n",
    "    while x[0]==255.0:\n",
    "        del(x[0])\n",
    "    x.reverse()\n",
    "    \n",
    "    while x[0]==255.0:\n",
    "        del(x[0])\n",
    "    x.reverse()"
   ]
  },
  {
   "cell_type": "code",
   "execution_count": 4,
   "metadata": {
    "ExecuteTime": {
     "end_time": "2019-04-06T23:01:45.747643Z",
     "start_time": "2019-04-06T23:01:45.732631Z"
    },
    "scrolled": true
   },
   "outputs": [],
   "source": [
    "def make_sample(X, image_path):\n",
    "    data = []\n",
    "    img=image.load_img(image_path,target_size=(98,98))\n",
    "    #img = get_img(image_path)\n",
    "    image_to_arr(data, img)\n",
    "    prepare_data(data)\n",
    "    X.append(data)"
   ]
  },
  {
   "cell_type": "code",
   "execution_count": 5,
   "metadata": {
    "ExecuteTime": {
     "end_time": "2019-04-06T23:01:57.227760Z",
     "start_time": "2019-04-06T23:01:46.244131Z"
    },
    "scrolled": true
   },
   "outputs": [],
   "source": [
    "X = []\n",
    "for i in range(1, 1370):\n",
    "    \n",
    "    path ='image_data/' + str(i) + '.png'\n",
    "    make_sample(X, path)"
   ]
  },
  {
   "cell_type": "code",
   "execution_count": 6,
   "metadata": {
    "ExecuteTime": {
     "end_time": "2019-04-06T23:01:57.257693Z",
     "start_time": "2019-04-06T23:01:57.229246Z"
    },
    "scrolled": true
   },
   "outputs": [
    {
     "name": "stdout",
     "output_type": "stream",
     "text": [
      "6031\n"
     ]
    }
   ],
   "source": [
    "longest = max(len(x) for x in X)\n",
    "print(longest)"
   ]
  },
  {
   "cell_type": "code",
   "execution_count": 7,
   "metadata": {
    "ExecuteTime": {
     "end_time": "2019-04-06T23:01:57.940859Z",
     "start_time": "2019-04-06T23:01:57.260259Z"
    },
    "scrolled": true
   },
   "outputs": [],
   "source": [
    "for x in X:\n",
    "    while len(x) < longest:\n",
    "        x.append(255.0)"
   ]
  },
  {
   "cell_type": "code",
   "execution_count": 8,
   "metadata": {
    "ExecuteTime": {
     "end_time": "2019-04-06T23:01:57.945024Z",
     "start_time": "2019-04-06T23:01:57.942820Z"
    },
    "scrolled": true
   },
   "outputs": [],
   "source": [
    "#Len = [len(x) for x in X]\n",
    "#print(Len)"
   ]
  },
  {
   "cell_type": "code",
   "execution_count": 9,
   "metadata": {
    "ExecuteTime": {
     "end_time": "2019-04-06T23:01:58.497450Z",
     "start_time": "2019-04-06T23:01:57.947267Z"
    },
    "scrolled": true
   },
   "outputs": [],
   "source": [
    "from sklearn.cluster import KMeans"
   ]
  },
  {
   "cell_type": "code",
   "execution_count": 26,
   "metadata": {
    "ExecuteTime": {
     "end_time": "2019-04-06T23:12:40.987899Z",
     "start_time": "2019-04-06T23:12:30.443220Z"
    },
    "scrolled": true
   },
   "outputs": [
    {
     "data": {
      "text/plain": [
       "KMeans(algorithm='auto', copy_x=True, init='k-means++', max_iter=300,\n",
       "    n_clusters=75, n_init=10, n_jobs=None, precompute_distances='auto',\n",
       "    random_state=None, tol=0.0001, verbose=0)"
      ]
     },
     "execution_count": 26,
     "metadata": {},
     "output_type": "execute_result"
    }
   ],
   "source": [
    "# Описываем модель\n",
    "model = KMeans(n_clusters=75)\n",
    " \n",
    "# Проводим моделирование\n",
    "model.fit(X)\n",
    " "
   ]
  },
  {
   "cell_type": "code",
   "execution_count": 27,
   "metadata": {
    "ExecuteTime": {
     "end_time": "2019-04-06T23:12:43.875910Z",
     "start_time": "2019-04-06T23:12:43.631139Z"
    },
    "scrolled": true
   },
   "outputs": [
    {
     "name": "stdout",
     "output_type": "stream",
     "text": [
      "[40  8 45 ... 65 13 50]\n"
     ]
    }
   ],
   "source": [
    "# Предсказание на единичном примере\n",
    "predicted_label_13 = model.predict(X)\n",
    " \n",
    "# Предсказание на всем наборе данных\n",
    "#all_predictions = model.predict(iris_df.data)\n",
    " \n",
    "# Выводим предсказания\n",
    "print(predicted_label_13)\n",
    "#print(all_predictions)"
   ]
  },
  {
   "cell_type": "code",
   "execution_count": 33,
   "metadata": {
    "ExecuteTime": {
     "end_time": "2019-04-06T23:15:34.827334Z",
     "start_time": "2019-04-06T23:15:34.808366Z"
    },
    "scrolled": true
   },
   "outputs": [
    {
     "data": {
      "text/plain": [
       "55"
      ]
     },
     "execution_count": 33,
     "metadata": {},
     "output_type": "execute_result"
    }
   ],
   "source": [
    "predicted_label_13[4]"
   ]
  },
  {
   "cell_type": "code",
   "execution_count": 34,
   "metadata": {
    "ExecuteTime": {
     "end_time": "2019-04-06T23:15:38.584869Z",
     "start_time": "2019-04-06T23:15:38.561066Z"
    },
    "scrolled": true
   },
   "outputs": [
    {
     "name": "stdout",
     "output_type": "stream",
     "text": [
      "[32]\n"
     ]
    }
   ],
   "source": [
    "predicted_label_14 = model.predict([X[6]])\n",
    "print(predicted_label_14)\n"
   ]
  },
  {
   "cell_type": "code",
   "execution_count": null,
   "metadata": {},
   "outputs": [],
   "source": []
  },
  {
   "cell_type": "code",
   "execution_count": 73,
   "metadata": {
    "ExecuteTime": {
     "end_time": "2019-04-06T22:27:19.878665Z",
     "start_time": "2019-04-06T22:27:08.933393Z"
    }
   },
   "outputs": [
    {
     "data": {
      "image/png": "[encoded data removed]",
      "text/plain": [
       "<Figure size 432x288 with 1 Axes>"
      ]
     },
     "metadata": {
      "needs_background": "light"
     },
     "output_type": "display_data"
    }
   ],
   "source": [
    "# Импортируем библиотеки\n",
    "from scipy.cluster.hierarchy import linkage, dendrogram\n",
    "# Реализация иерархической кластеризации при помощи функции linkage\n",
    "mergings = linkage(X, method='complete')\n",
    " \n",
    "# Строим дендрограмму, указав параметры удобные для отображения\n",
    "dendrogram(mergings,\n",
    "           leaf_rotation=90,\n",
    "           leaf_font_size=6,\n",
    "           )\n",
    " \n",
    "plt.show()"
   ]
  },
  {
   "cell_type": "code",
   "execution_count": null,
   "metadata": {},
   "outputs": [],
   "source": []
  },
  {
   "cell_type": "code",
   "execution_count": 75,
   "metadata": {
    "ExecuteTime": {
     "end_time": "2019-04-06T22:30:55.247110Z",
     "start_time": "2019-04-06T22:30:31.047844Z"
    }
   },
   "outputs": [],
   "source": [
    "\n",
    "# Импорт библиотек\n",
    "from sklearn.manifold import TSNE\n",
    "\n",
    "# Определяем модель и скорость обучения\n",
    "model = TSNE(learning_rate=100)\n",
    " \n",
    "# Обучаем модель\n",
    "transformed = model.fit_transform(X)\n",
    " \n",
    "# Представляем результат в двумерных координатах\n",
    "x_axis = transformed[:, 0]\n",
    "y_axis = transformed[:, 1]"
   ]
  },
  {
   "cell_type": "code",
   "execution_count": 76,
   "metadata": {
    "ExecuteTime": {
     "end_time": "2019-04-06T22:30:56.622679Z",
     "start_time": "2019-04-06T22:30:56.417507Z"
    }
   },
   "outputs": [
    {
     "data": {
      "image/png": "[encoded data removed]",
      "text/plain": [
       "<Figure size 432x288 with 1 Axes>"
      ]
     },
     "metadata": {
      "needs_background": "light"
     },
     "output_type": "display_data"
    }
   ],
   "source": [
    "plt.scatter(x_axis, y_axis)\n",
    "plt.show()"
   ]
  },
  {
   "cell_type": "code",
   "execution_count": 238,
   "metadata": {
    "ExecuteTime": {
     "end_time": "2019-04-06T19:04:58.511002Z",
     "start_time": "2019-04-06T19:04:58.498096Z"
    },
    "scrolled": true
   },
   "outputs": [],
   "source": [
    "data = np.array(data)"
   ]
  },
  {
   "cell_type": "code",
   "execution_count": 271,
   "metadata": {
    "ExecuteTime": {
     "end_time": "2019-04-06T19:30:39.219095Z",
     "start_time": "2019-04-06T19:30:39.202174Z"
    },
    "scrolled": true
   },
   "outputs": [],
   "source": [
    "data = data.transpose()"
   ]
  },
  {
   "cell_type": "code",
   "execution_count": 275,
   "metadata": {
    "ExecuteTime": {
     "end_time": "2019-04-06T19:31:17.753521Z",
     "start_time": "2019-04-06T19:31:17.739957Z"
    },
    "scrolled": true
   },
   "outputs": [],
   "source": [
    "data = data.reshape(1, 1604)"
   ]
  },
  {
   "cell_type": "code",
   "execution_count": 278,
   "metadata": {
    "ExecuteTime": {
     "end_time": "2019-04-06T19:31:33.241070Z",
     "start_time": "2019-04-06T19:31:33.232756Z"
    },
    "scrolled": true
   },
   "outputs": [
    {
     "data": {
      "text/plain": [
       "(1, 1604)"
      ]
     },
     "execution_count": 278,
     "metadata": {},
     "output_type": "execute_result"
    }
   ],
   "source": [
    "data.shape"
   ]
  },
  {
   "cell_type": "code",
   "execution_count": 281,
   "metadata": {
    "ExecuteTime": {
     "end_time": "2019-04-06T19:32:07.961341Z",
     "start_time": "2019-04-06T19:32:07.939126Z"
    },
    "scrolled": true
   },
   "outputs": [],
   "source": [
    "np.savetxt('data.txt', data, delimiter=';')"
   ]
  },
  {
   "cell_type": "code",
   "execution_count": 256,
   "metadata": {
    "ExecuteTime": {
     "end_time": "2019-04-06T19:15:48.957711Z",
     "start_time": "2019-04-06T19:15:48.943827Z"
    },
    "scrolled": true
   },
   "outputs": [],
   "source": [
    "columns = tuple([l for l in range(len(data))])\n"
   ]
  },
  {
   "cell_type": "code",
   "execution_count": null,
   "metadata": {
    "scrolled": true
   },
   "outputs": [],
   "source": [
    "res = DataFrame(columns=('lib', 'qty1', 'qty2'))"
   ]
  },
  {
   "cell_type": "code",
   "execution_count": 282,
   "metadata": {
    "ExecuteTime": {
     "end_time": "2019-04-06T19:33:29.992683Z",
     "start_time": "2019-04-06T19:33:29.949209Z"
    },
    "scrolled": true
   },
   "outputs": [],
   "source": [
    "df = pd.DataFrame(columns=columns)"
   ]
  },
  {
   "cell_type": "code",
   "execution_count": 284,
   "metadata": {
    "ExecuteTime": {
     "end_time": "2019-04-06T19:34:27.577512Z",
     "start_time": "2019-04-06T19:34:27.261499Z"
    },
    "scrolled": true
   },
   "outputs": [
    {
     "data": {
      "text/html": [
       "<div>\n",
       "<style scoped>\n",
       "    .dataframe tbody tr th:only-of-type {\n",
       "        vertical-align: middle;\n",
       "    }\n",
       "\n",
       "    .dataframe tbody tr th {\n",
       "        vertical-align: top;\n",
       "    }\n",
       "\n",
       "    .dataframe thead th {\n",
       "        text-align: right;\n",
       "    }\n",
       "</style>\n",
       "<table border=\"1\" class=\"dataframe\">\n",
       "  <thead>\n",
       "    <tr style=\"text-align: right;\">\n",
       "      <th></th>\n",
       "      <th>2.230000000000000000e+02</th>\n",
       "      <th>2.300000000000000000e+01</th>\n",
       "      <th>2.070000000000000000e+02</th>\n",
       "      <th>2.340000000000000000e+02</th>\n",
       "      <th>9.900000000000000000e+01</th>\n",
       "      <th>2.300000000000000000e+01.1</th>\n",
       "      <th>9.000000000000000000e+00</th>\n",
       "      <th>4.500000000000000000e+01</th>\n",
       "      <th>1.420000000000000000e+02</th>\n",
       "      <th>2.520000000000000000e+02</th>\n",
       "      <th>...</th>\n",
       "      <th>2.550000000000000000e+02.1076</th>\n",
       "      <th>2.550000000000000000e+02.1077</th>\n",
       "      <th>2.550000000000000000e+02.1078</th>\n",
       "      <th>2.550000000000000000e+02.1079</th>\n",
       "      <th>2.550000000000000000e+02.1080</th>\n",
       "      <th>2.550000000000000000e+02.1081</th>\n",
       "      <th>2.550000000000000000e+02.1082</th>\n",
       "      <th>2.310000000000000000e+02.6</th>\n",
       "      <th>5.800000000000000000e+01</th>\n",
       "      <th>7.900000000000000000e+01.2</th>\n",
       "    </tr>\n",
       "  </thead>\n",
       "  <tbody>\n",
       "  </tbody>\n",
       "</table>\n",
       "<p>0 rows × 1604 columns</p>\n",
       "</div>"
      ],
      "text/plain": [
       "Empty DataFrame\n",
       "Columns: [2.230000000000000000e+02, 2.300000000000000000e+01, 2.070000000000000000e+02, 2.340000000000000000e+02, 9.900000000000000000e+01, 2.300000000000000000e+01.1, 9.000000000000000000e+00, 4.500000000000000000e+01, 1.420000000000000000e+02, 2.520000000000000000e+02, 2.550000000000000000e+02, 2.550000000000000000e+02.1, 2.550000000000000000e+02.2, 2.550000000000000000e+02.3, 2.550000000000000000e+02.4, 2.550000000000000000e+02.5, 2.550000000000000000e+02.6, 2.550000000000000000e+02.7, 2.550000000000000000e+02.8, 2.550000000000000000e+02.9, 2.550000000000000000e+02.10, 2.550000000000000000e+02.11, 2.550000000000000000e+02.12, 2.550000000000000000e+02.13, 2.550000000000000000e+02.14, 2.550000000000000000e+02.15, 2.550000000000000000e+02.16, 1.930000000000000000e+02, 2.200000000000000000e+01, 2.000000000000000000e+02, 2.550000000000000000e+02.17, 2.550000000000000000e+02.18, 2.550000000000000000e+02.19, 2.550000000000000000e+02.20, 2.550000000000000000e+02.21, 2.550000000000000000e+02.22, 2.550000000000000000e+02.23, 2.550000000000000000e+02.24, 2.550000000000000000e+02.25, 2.550000000000000000e+02.26, 2.550000000000000000e+02.27, 2.550000000000000000e+02.28, 2.550000000000000000e+02.29, 2.550000000000000000e+02.30, 2.550000000000000000e+02.31, 2.550000000000000000e+02.32, 2.550000000000000000e+02.33, 2.550000000000000000e+02.34, 2.550000000000000000e+02.35, 2.550000000000000000e+02.36, 2.550000000000000000e+02.37, 2.550000000000000000e+02.38, 2.550000000000000000e+02.39, 2.550000000000000000e+02.40, 2.550000000000000000e+02.41, 2.550000000000000000e+02.42, 2.550000000000000000e+02.43, 2.550000000000000000e+02.44, 2.550000000000000000e+02.45, 2.550000000000000000e+02.46, 2.550000000000000000e+02.47, 2.550000000000000000e+02.48, 2.550000000000000000e+02.49, 2.550000000000000000e+02.50, 2.550000000000000000e+02.51, 2.550000000000000000e+02.52, 2.550000000000000000e+02.53, 2.550000000000000000e+02.54, 2.550000000000000000e+02.55, 2.550000000000000000e+02.56, 2.550000000000000000e+02.57, 2.550000000000000000e+02.58, 2.550000000000000000e+02.59, 2.550000000000000000e+02.60, 2.550000000000000000e+02.61, 2.550000000000000000e+02.62, 2.550000000000000000e+02.63, 2.550000000000000000e+02.64, 2.550000000000000000e+02.65, 2.550000000000000000e+02.66, 2.550000000000000000e+02.67, 2.550000000000000000e+02.68, 2.550000000000000000e+02.69, 2.550000000000000000e+02.70, 2.550000000000000000e+02.71, 2.550000000000000000e+02.72, 2.550000000000000000e+02.73, 2.550000000000000000e+02.74, 2.550000000000000000e+02.75, 2.550000000000000000e+02.76, 2.550000000000000000e+02.77, 2.550000000000000000e+02.78, 2.550000000000000000e+02.79, 2.550000000000000000e+02.80, 2.550000000000000000e+02.81, 2.550000000000000000e+02.82, 2.550000000000000000e+02.83, 2.550000000000000000e+02.84, 2.180000000000000000e+02, 0.000000000000000000e+00, ...]\n",
       "Index: []\n",
       "\n",
       "[0 rows x 1604 columns]"
      ]
     },
     "execution_count": 284,
     "metadata": {},
     "output_type": "execute_result"
    }
   ],
   "source": [
    "pd.read_csv('data.txt', sep=';')"
   ]
  },
  {
   "cell_type": "code",
   "execution_count": 150,
   "metadata": {
    "ExecuteTime": {
     "end_time": "2019-04-06T17:19:08.114546Z",
     "start_time": "2019-04-06T17:19:08.098029Z"
    },
    "scrolled": true
   },
   "outputs": [
    {
     "data": {
      "text/plain": [
       "'for i in range(98):\\n    for j in range(98):\\n        if x[i][j][0] < 200.0:\\n            print(i, j)\\n            print(x[i][j])'"
      ]
     },
     "execution_count": 150,
     "metadata": {},
     "output_type": "execute_result"
    }
   ],
   "source": [
    "'''for i in range(98):\n",
    "    for j in range(98):\n",
    "        if x[i][j][0] < 200.0:\n",
    "            print(i, j)\n",
    "            print(x[i][j])'''"
   ]
  },
  {
   "cell_type": "code",
   "execution_count": 48,
   "metadata": {
    "ExecuteTime": {
     "end_time": "2019-04-07T01:01:35.861487Z",
     "start_time": "2019-04-07T01:01:35.845133Z"
    },
    "scrolled": true
   },
   "outputs": [
    {
     "data": {
      "text/plain": [
       "1270211412121722"
      ]
     },
     "execution_count": 48,
     "metadata": {},
     "output_type": "execute_result"
    }
   ],
   "source": [
    "19940106*9100191*7"
   ]
  },
  {
   "cell_type": "code",
   "execution_count": 51,
   "metadata": {
    "ExecuteTime": {
     "end_time": "2019-04-07T01:16:21.333631Z",
     "start_time": "2019-04-07T01:16:21.328743Z"
    }
   },
   "outputs": [
    {
     "data": {
      "text/plain": [
       "26547000901722"
      ]
     },
     "execution_count": 51,
     "metadata": {},
     "output_type": "execute_result"
    }
   ],
   "source": [
    "19940106*190191*7"
   ]
  },
  {
   "cell_type": "code",
   "execution_count": null,
   "metadata": {},
   "outputs": [],
   "source": []
  }
 ],
 "metadata": {
  "kernelspec": {
   "display_name": "Python 3",
   "language": "python",
   "name": "python3"
  },
  "language_info": {
   "codemirror_mode": {
    "name": "ipython",
    "version": 3
   },
   "file_extension": ".py",
   "mimetype": "text/x-python",
   "name": "python",
   "nbconvert_exporter": "python",
   "pygments_lexer": "ipython3",
   "version": "3.7.1"
  }
 },
 "nbformat": 4,
 "nbformat_minor": 2
}
